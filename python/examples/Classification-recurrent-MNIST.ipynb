{
 "cells": [
  {
   "cell_type": "code",
   "execution_count": null,
   "metadata": {
    "pycharm": {
     "name": "#%%\n"
    }
   },
   "outputs": [],
   "source": [
    "import sys\n",
    "\n",
    "import matplotlib.pyplot as plt \n",
    "%matplotlib inline  \n",
    "import numpy as np\n",
    "import scipy.stats # for creating a simple dataset \n",
    "from sklearn.model_selection import train_test_split\n",
    "import torch\n",
    "from torch.utils.data import DataLoader\n",
    "from torch.nn.functional import one_hot\n",
    "from torchvision.datasets import MNIST\n",
    "from torchvision.transforms import ToTensor\n",
    "\n",
    "stg_path = '../'\n",
    "\n",
    "if stg_path not in sys.path:\n",
    "    sys.path.append(stg_path)\n",
    "\n",
    "from dataset import create_twomoon_dataset\n",
    "from stg import STG"
   ]
  },
  {
   "cell_type": "code",
   "execution_count": null,
   "metadata": {},
   "outputs": [],
   "source": [
    "sub_train_size=50\n",
    "\n",
    "traindt = MNIST(\n",
    "    root = 'data',\n",
    "    train = True,                         \n",
    "    transform = ToTensor(), \n",
    "    download = True,            \n",
    ")\n",
    "testdt = MNIST(\n",
    "    root = 'data', \n",
    "    train = False, \n",
    "    transform = ToTensor()\n",
    ")\n",
    "\n",
    "X_train = traindt.data.reshape(traindt.data.size(0), -1)[:sub_train_size]\n",
    "y_train = traindt.targets[:sub_train_size]\n",
    "X_test = testdt.data.reshape(testdt.data.size(0), -1)\n",
    "y_test = testdt.targets\n",
    "\n",
    "X_train.shape, y_train.shape, X_test.shape, y_test.shape"
   ]
  },
  {
   "cell_type": "code",
   "execution_count": null,
   "metadata": {},
   "outputs": [],
   "source": [
    "train_indices = []\n",
    "test_indices = []\n",
    "\n",
    "for i in range(10):\n",
    "    train_indices.append(torch.nonzero(y_train==i).reshape(-1))\n",
    "    test_indices.append(torch.nonzero(y_test==i).reshape(-1))\n",
    "min_train = min([len(a) for a in train_indices])\n",
    "min_test = min([len(a) for a in test_indices])\n",
    "\n",
    "new_train_ind = []\n",
    "new_test_ind = []\n",
    "\n",
    "for i in range(10):\n",
    "    new_train_ind.append(train_indices[i][:min_train])\n",
    "    new_test_ind.append(test_indices[i][:min_test])"
   ]
  },
  {
   "cell_type": "code",
   "execution_count": null,
   "metadata": {},
   "outputs": [],
   "source": [
    "number_sets = [(1,1,1), (2,2,2)]\n",
    "\n",
    "data_sets = []\n",
    "total_lengths = {'train':0, 'test':0}\n",
    "\n",
    "for s in number_sets:\n",
    "    train_ind_tmp = torch.cat([new_train_ind[i].reshape(1,-1) for i in s], axis=0).transpose(1,0).reshape(-1)\n",
    "    test_ind_tmp = torch.cat([new_test_ind[i].reshape(1,-1) for i in s], axis=0).transpose(1,0).reshape(-1)\n",
    "    data_sets.append({'X_train': X_train[train_ind_tmp], 'y_train': y_train[train_ind_tmp], 'X_test':X_test[test_ind_tmp], 'y_test':y_test[test_ind_tmp]})\n",
    "    total_lengths['train']+= len(train_ind_tmp)\n",
    "    total_lengths['test']+= len(test_ind_tmp)\n",
    "\n",
    "print('Datasets train/test lengths')\n",
    "for s in data_sets:\n",
    "    print(len(s['y_train']), len(s['y_test']))"
   ]
  },
  {
   "cell_type": "code",
   "execution_count": null,
   "metadata": {},
   "outputs": [],
   "source": [
    "batch_size = 128\n",
    "recurrent_split_dim = 8\n",
    "lam = 0.0\n",
    "dropout = 0.1"
   ]
  },
  {
   "cell_type": "code",
   "execution_count": null,
   "metadata": {},
   "outputs": [],
   "source": [
    "split_factor = 4\n",
    "\n",
    "X_train_new = []\n",
    "y_train_new =[]\n",
    "X_test_new = []\n",
    "y_test_new = []\n",
    "\n",
    "for f in range(split_factor):\n",
    "    for i, s in enumerate(data_sets):\n",
    "        for t in ['train', 'test']:\n",
    "            X_temp = data_sets[i]['X_' + t]\n",
    "            y_temp = data_sets[i]['y_' + t]\n",
    "            l = len(y_temp)\n",
    "            jump = float(l) / split_factor\n",
    "            start = int(f*jump)\n",
    "            end = int((f+1)*jump + 1e-10)\n",
    "            if t=='train':\n",
    "                X_train_new.append(X_temp[start:end])\n",
    "                y_train_new.append(y_temp[start:end])\n",
    "            else:\n",
    "                X_test_new.append(X_temp[start:end])\n",
    "                y_test_new.append(y_temp[start:end])\n",
    "\n",
    "X_train_new = torch.cat(X_train_new)\n",
    "y_train_new = torch.cat(y_train_new)\n",
    "X_test_new = torch.cat(X_test_new)\n",
    "y_test_new = torch.cat(y_test_new)\n",
    "\n",
    "\n",
    "# fix length for recurrent neureal network splitting\n",
    "X_train_new = X_train_new[: (X_train_new.shape[0] // recurrent_split_dim * recurrent_split_dim)]\n",
    "y_train_new = y_train_new[: (y_train_new.shape[0] // recurrent_split_dim * recurrent_split_dim)]\n",
    "X_test_new = X_test_new[: (X_test_new.shape[0] // recurrent_split_dim * recurrent_split_dim)]\n",
    "y_test_new = y_test_new[: (y_test_new.shape[0] // recurrent_split_dim * recurrent_split_dim)]"
   ]
  },
  {
   "cell_type": "code",
   "execution_count": null,
   "metadata": {},
   "outputs": [],
   "source": [
    "args_cuda = torch.cuda.is_available()\n",
    "device = torch.device(\"cuda\" if args_cuda else \"cpu\") \n",
    "feature_selection = True\n",
    "model = STG(task_type='classification',input_dim=X_train.shape[1], output_dim=10, hidden_dims=[10], activation='none',\n",
    "    optimizer='SGD', learning_rate=0.0001, batch_size=batch_size, feature_selection=feature_selection, sigma=1, lam=lam, random_state=1, device=device, extra_args={'gating_net_hidden_dims':2000}, recurrent_split_dim=None, dropout=dropout) "
   ]
  },
  {
   "cell_type": "code",
   "execution_count": null,
   "metadata": {},
   "outputs": [],
   "source": [
    "args_cuda = torch.cuda.is_available()\n",
    "device = torch.device(\"cuda\" if args_cuda else \"cpu\") \n",
    "feature_selection = True\n",
    "model = STG(task_type='classification',input_dim=X_train.shape[1], output_dim=10, hidden_dims=[10], activation='none',\n",
    "    optimizer='SGD', learning_rate=0.001, batch_size=batch_size, feature_selection=feature_selection, sigma=1, lam=lam, random_state=1, device=device, extra_args={'gating_net_hidden_dims':2000}, recurrent_split_dim=recurrent_split_dim, dropout=dropout) "
   ]
  },
  {
   "cell_type": "code",
   "execution_count": null,
   "metadata": {},
   "outputs": [],
   "source": [
    "# X_train_run, y_train_run, X_test_run, y_test_run = X_train, y_train, X_test, y_test\n",
    "X_train_run, y_train_run, X_test_run, y_test_run = X_train_new, y_train_new, X_test_new, y_test_new"
   ]
  },
  {
   "cell_type": "code",
   "execution_count": null,
   "metadata": {
    "pycharm": {
     "name": "#%%\n"
    }
   },
   "outputs": [],
   "source": [
    "epochs = 1000\n",
    "print_interval = 100\n",
    "\n",
    "model.fit(X_train_run, y_train_run, nr_epochs=epochs, valid_X=X_test_run, valid_y=y_test_run, print_interval=print_interval, is_tensor_input=True)\n",
    "\n",
    "train_acc = 100 * (y_train_run.cpu().numpy()==model.predict(X_train_run)).sum()/len(y_train_run)\n",
    "test_acc = 100 *(y_test_run.cpu().numpy()==model.predict(X_test_run)).sum()/len(y_test_run)\n",
    "\n",
    "print(f'train accuracy: {train_acc:.2f}% test accuracy: {test_acc:.2f}%')\n",
    "\n",
    "if model.has_feature_selection:\n",
    "    prob = model._model.get_gates('prob', X_test_run.float().cuda()).reshape(-1,28,28)\n",
    "    print(len(y_test_run), prob.mean(), prob.std())\n",
    "    plt.imshow(prob.mean(0));"
   ]
  },
  {
   "cell_type": "markdown",
   "metadata": {},
   "source": [
    "## Per digits example and distribution"
   ]
  },
  {
   "cell_type": "code",
   "execution_count": null,
   "metadata": {},
   "outputs": [],
   "source": [
    "for i in range(10):\n",
    "    f = plt.figure(figsize=(25,4));\n",
    "    f.suptitle(f'Data distribution for digit {i}',fontsize=16)\n",
    "    ax1 = f.add_subplot(151)\n",
    "    ax2 = f.add_subplot(152)\n",
    "    ax3 = f.add_subplot(153)\n",
    "    ax4 = f.add_subplot(154)\n",
    "    ax5 = f.add_subplot(155)\n",
    "    # fig, (ax1, ax2, ax3) = plt.subplots(1,3)\n",
    "    filtered_prob = prob[(y_test==i)]\n",
    "    counts = (filtered_prob > 0.001).sum(1).sum(1)\n",
    "    num_prob = filtered_prob.mean(0)\n",
    "    im = ax3.imshow(num_prob, interpolation='None')\n",
    "    f.colorbar(im, ax=ax3)\n",
    "    ax3.title.set_text('Mean prob')\n",
    "    num_prob = num_prob[num_prob > 0.001]\n",
    "    ax1.hist(num_prob.reshape(-1));\n",
    "    ax1.title.set_text('Mean probability > 0.001 hist')\n",
    "    ax2.hist(counts)\n",
    "    ax2.title.set_text('Number of point > 0.001 hist')\n",
    "    ax4.imshow(X_test[y_test==i][0].reshape(28,28))\n",
    "    ax4.title.set_text('Sample digit')\n",
    "    ax5.imshow(filtered_prob[0].reshape(28,28))\n",
    "    ax5.title.set_text('Sample gates')"
   ]
  },
  {
   "cell_type": "markdown",
   "metadata": {},
   "source": [
    "## Average gate probability"
   ]
  },
  {
   "cell_type": "code",
   "execution_count": null,
   "metadata": {},
   "outputs": [],
   "source": [
    "plt.imshow(prob.sum(0));"
   ]
  },
  {
   "cell_type": "markdown",
   "metadata": {},
   "source": []
  },
  {
   "cell_type": "markdown",
   "metadata": {},
   "source": [
    "## Some experiments"
   ]
  },
  {
   "cell_type": "code",
   "execution_count": null,
   "metadata": {},
   "outputs": [],
   "source": [
    "aa = model._model.FeatureSelector.net.mlp[0](X_test[:124].float().cuda()).detach().cpu().numpy()"
   ]
  },
  {
   "cell_type": "code",
   "execution_count": null,
   "metadata": {},
   "outputs": [],
   "source": [
    "similar = aa[y_test[:124]==0]\n",
    "different = aa[y_test[:124]!=0][:len(similar)]\n",
    "len(similar), len(different)"
   ]
  },
  {
   "cell_type": "code",
   "execution_count": null,
   "metadata": {},
   "outputs": [],
   "source": [
    "from scipy.spatial import distance_matrix\n",
    "d1 = distance_matrix(similar, similar, 1)\n",
    "d2 = distance_matrix(similar, different, 1)"
   ]
  },
  {
   "cell_type": "code",
   "execution_count": null,
   "metadata": {},
   "outputs": [],
   "source": [
    "d1.mean(), d2.mean() * (len(d2) - 1)/ len(d2)"
   ]
  },
  {
   "cell_type": "code",
   "execution_count": null,
   "metadata": {},
   "outputs": [],
   "source": []
  }
 ],
 "metadata": {
  "file_extension": ".py",
  "kernelspec": {
   "display_name": "Python 3 (ipykernel)",
   "language": "python",
   "name": "python3"
  },
  "language_info": {
   "codemirror_mode": {
    "name": "ipython",
    "version": 3
   },
   "file_extension": ".py",
   "mimetype": "text/x-python",
   "name": "python",
   "nbconvert_exporter": "python",
   "pygments_lexer": "ipython3",
   "version": "3.8.10"
  },
  "mimetype": "text/x-python",
  "name": "python",
  "npconvert_exporter": "python",
  "pygments_lexer": "ipython3",
  "version": 3
 },
 "nbformat": 4,
 "nbformat_minor": 4
}
