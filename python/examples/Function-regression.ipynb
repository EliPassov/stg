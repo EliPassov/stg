{
 "cells": [
  {
   "cell_type": "code",
   "execution_count": null,
   "id": "692463b1-e54c-47a5-9df6-5e0431a414d3",
   "metadata": {},
   "outputs": [],
   "source": [
    "import sys\n",
    "\n",
    "import matplotlib.pyplot as plt \n",
    "%matplotlib inline  \n",
    "import numpy as np\n",
    "import scipy.stats # for creating a simple dataset \n",
    "from sklearn.model_selection import train_test_split\n",
    "import torch\n",
    "from torch import nn\n",
    "from torch.utils.data import DataLoader, TensorDataset\n",
    "from torch.nn.functional import one_hot\n",
    "from torchvision.datasets import MNIST\n",
    "from torchvision.transforms import ToTensor\n",
    "\n",
    "stg_path = '../'\n",
    "\n",
    "if stg_path not in sys.path:\n",
    "    sys.path.append(stg_path)\n",
    "\n",
    "from stg import STG"
   ]
  },
  {
   "cell_type": "code",
   "execution_count": null,
   "id": "450e974b-2ccd-4ae8-9ce1-a874011729b1",
   "metadata": {},
   "outputs": [],
   "source": [
    "w1 = torch.Tensor([[1, -3], [-2, 2], [-1, 0.5], [0.7, -0.3]])\n",
    "b1= torch.Tensor([0.5, -0.2])\n",
    "w2 = torch.Tensor([[0.5], [-0.2]])\n",
    "b2 = torch.Tensor([0])\n",
    "\n",
    "\n",
    "l1 = nn.Linear(w1.shape[0], w1.shape[1])\n",
    "l1.weight = nn.Parameter(w1.t())\n",
    "l1.bias = nn.Parameter(b1)\n",
    "l2 = nn.Linear(w2.shape[0], w2.shape[1])\n",
    "l2.weight = nn.Parameter(w2.t())\n",
    "l2.bias = nn.Parameter(b2)\n",
    "\n",
    "simple_net = nn.Sequential(l1, nn.ReLU(), l2)"
   ]
  },
  {
   "cell_type": "code",
   "execution_count": null,
   "id": "45bf83ef-f482-4aeb-96b1-083c943ce979",
   "metadata": {},
   "outputs": [],
   "source": [
    "test_net = nn.Sequential(nn.Linear(w1.shape[0], w1.shape[1]), nn.ReLU(), nn.Linear(w2.shape[0], w2.shape[1]))"
   ]
  },
  {
   "cell_type": "code",
   "execution_count": null,
   "id": "7fb9553b-01de-4936-82c1-36f971e308e5",
   "metadata": {},
   "outputs": [],
   "source": [
    "data = torch.randn(2000,4)\n",
    "train_loader = DataLoader(TensorDataset(data), batch_size=32)"
   ]
  },
  {
   "cell_type": "code",
   "execution_count": null,
   "id": "c3d4b4ae-1df0-46db-b295-92a610b904d7",
   "metadata": {},
   "outputs": [],
   "source": [
    "epochs = 100\n",
    "lr = 0.1\n",
    "wd = 1e-8\n",
    "skip_print=10"
   ]
  },
  {
   "cell_type": "code",
   "execution_count": null,
   "id": "c51d4094-403b-4f74-ad89-46b98e7412d2",
   "metadata": {},
   "outputs": [],
   "source": [
    "criterion = nn.MSELoss()\n",
    "optimizer = torch.optim.SGD(test_net.parameters(), lr=lr, momentum=0.9, weight_decay=wd)\n",
    "total_loss = 0\n",
    "\n",
    "\n",
    "for e in range(epochs):\n",
    "    ll = ((simple_net[0].weight - test_net[0].weight)**2).sum() + ((simple_net[2].weight - test_net[2].weight)**2).sum() \n",
    "    if e%skip_print ==0:\n",
    "        print(ll.item(), total_loss)\n",
    "    total_loss = 0\n",
    "    for d in train_loader:\n",
    "        dat = d[0]\n",
    "        y = simple_net(dat)\n",
    "        out = test_net(dat)\n",
    "        loss = criterion(out, y)\n",
    "        optimizer.zero_grad()\n",
    "        loss.backward()\n",
    "        optimizer.step()\n",
    "        total_loss += loss.item()\n",
    "        \n"
   ]
  },
  {
   "cell_type": "code",
   "execution_count": null,
   "id": "2a3a8b16-8e9a-4e6e-ab5e-3fa87a5b5833",
   "metadata": {},
   "outputs": [],
   "source": [
    "simple_net[0].weight"
   ]
  },
  {
   "cell_type": "code",
   "execution_count": null,
   "id": "020d5c54-df5e-45ba-894a-e4dc3806c93d",
   "metadata": {},
   "outputs": [],
   "source": [
    "test_net[0].weight"
   ]
  },
  {
   "cell_type": "code",
   "execution_count": null,
   "id": "f94e6963-9ff1-4280-84e8-c1d724f89b71",
   "metadata": {},
   "outputs": [],
   "source": [
    "simple_net[2].weight"
   ]
  },
  {
   "cell_type": "code",
   "execution_count": null,
   "id": "0cd7744d-30ee-44da-9a00-9b9abb8a8713",
   "metadata": {},
   "outputs": [],
   "source": [
    "test_net[2].weight"
   ]
  },
  {
   "cell_type": "code",
   "execution_count": null,
   "id": "19675dea-52cb-459b-8260-a09f2fd43e98",
   "metadata": {},
   "outputs": [],
   "source": [
    "simple_net(data[5]).item(), test_net(data[5]).item()"
   ]
  },
  {
   "cell_type": "code",
   "execution_count": null,
   "id": "410d3e69-3750-441a-9a62-9a6b9249a81f",
   "metadata": {},
   "outputs": [],
   "source": []
  }
 ],
 "metadata": {
  "kernelspec": {
   "display_name": "Python 3 (ipykernel)",
   "language": "python",
   "name": "python3"
  },
  "language_info": {
   "codemirror_mode": {
    "name": "ipython",
    "version": 3
   },
   "file_extension": ".py",
   "mimetype": "text/x-python",
   "name": "python",
   "nbconvert_exporter": "python",
   "pygments_lexer": "ipython3",
   "version": "3.8.10"
  }
 },
 "nbformat": 4,
 "nbformat_minor": 5
}
