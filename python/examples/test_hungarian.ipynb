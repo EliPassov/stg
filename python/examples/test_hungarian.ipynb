{
 "cells": [
  {
   "cell_type": "code",
   "execution_count": 2,
   "id": "344d2609-22e4-48b2-a738-f19790c8c0a7",
   "metadata": {},
   "outputs": [],
   "source": [
    "import numpy as np\n",
    "from hungarian_algorithm import algorithm"
   ]
  },
  {
   "cell_type": "code",
   "execution_count": 3,
   "id": "5c1a3c52-d5a1-4335-86ac-71e3255a8acb",
   "metadata": {},
   "outputs": [],
   "source": [
    "a1 = np.array([4, 2, 3, 5, 1, 3, 7, 9, 2, 4, 5, 6, 4, 5, 3, 5, 7, 1, 5, 7, 4, 6,\n",
    "       6, 0, 7, 5, 1, 7, 5, 3, 0, 3, 0, 6, 4, 5, 1, 3, 2, 3, 3, 4, 7, 2,\n",
    "       3, 0, 3, 8, 7, 1])\n",
    "a2 = np.array([7, 2, 1, 0, 4, 1, 4, 9, 5, 9, 0, 6, 9, 0, 1, 5, 9, 7, 3, 4, 9, 6, 6, 5,\n",
    "        4, 0, 7, 4, 0, 1, 3, 1, 3, 4, 7, 2, 7, 1, 2, 1, 1, 7, 4, 2, 3, 5, 1, 2,\n",
    "        4, 4])"
   ]
  },
  {
   "cell_type": "code",
   "execution_count": 4,
   "id": "12918bc6-ac2e-4afd-ae1f-68dc612a7d95",
   "metadata": {},
   "outputs": [],
   "source": [
    "def get_matches(a1, a2):\n",
    "    a1_map = {i:np.where(a1==i) for i in range(10)}\n",
    "    a2_map = {i:np.where(a2==i) for i in range(10)}\n",
    "    scores={}\n",
    "    for i in range(10):\n",
    "        scores[str(i)] = {}\n",
    "        for j in range(10):\n",
    "            scores[str(i)][\"a\"+str(j)]=len(np.intersect1d(a1_map[i], a2_map[j]))\n",
    "\n",
    "    res=algorithm.find_matching(scores, matching_type = 'max', return_type = 'list' )\n",
    "    return sum([r[1] for r in res])"
   ]
  },
  {
   "cell_type": "code",
   "execution_count": 5,
   "id": "a26c67d0-744d-4c72-957d-a70b98794b61",
   "metadata": {},
   "outputs": [
    {
     "data": {
      "text/plain": [
       "34"
      ]
     },
     "execution_count": 5,
     "metadata": {},
     "output_type": "execute_result"
    }
   ],
   "source": [
    "get_matches(a1,a2)"
   ]
  },
  {
   "cell_type": "code",
   "execution_count": null,
   "id": "bcfc45ee-58d4-4955-bc3b-eca1a17c5482",
   "metadata": {},
   "outputs": [],
   "source": []
  },
  {
   "cell_type": "code",
   "execution_count": null,
   "id": "d98175c7-09e7-4d7d-bdfa-6e71168cb743",
   "metadata": {},
   "outputs": [],
   "source": [
    "for i in range(20):\n",
    "    try:\n",
    "        a1=np.random.randint(0,10,50)\n",
    "        a2=np.random.randint(0,10,50)\n",
    "        print(get_matches(a1,a2))\n",
    "    except:\n",
    "        pass"
   ]
  },
  {
   "cell_type": "code",
   "execution_count": null,
   "id": "71fe7bf6-91ea-413f-8096-963cbe8312d0",
   "metadata": {},
   "outputs": [],
   "source": []
  }
 ],
 "metadata": {
  "kernelspec": {
   "display_name": "Python 3 (ipykernel)",
   "language": "python",
   "name": "python3"
  },
  "language_info": {
   "codemirror_mode": {
    "name": "ipython",
    "version": 3
   },
   "file_extension": ".py",
   "mimetype": "text/x-python",
   "name": "python",
   "nbconvert_exporter": "python",
   "pygments_lexer": "ipython3",
   "version": "3.8.10"
  }
 },
 "nbformat": 4,
 "nbformat_minor": 5
}
