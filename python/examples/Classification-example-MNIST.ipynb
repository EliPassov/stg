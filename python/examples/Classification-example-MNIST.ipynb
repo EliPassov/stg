{
 "cells": [
  {
   "cell_type": "code",
   "execution_count": null,
   "metadata": {
    "pycharm": {
     "name": "#%%\n"
    }
   },
   "outputs": [],
   "source": [
    "import sys\n",
    "stg_path = '../'\n",
    "if stg_path not in sys.path:\n",
    "    sys.path.append(stg_path)"
   ]
  },
  {
   "cell_type": "code",
   "execution_count": null,
   "metadata": {
    "pycharm": {
     "name": "#%%\n"
    }
   },
   "outputs": [],
   "source": [
    "from stg import STG\n",
    "import numpy as np\n",
    "import scipy.stats # for creating a simple dataset \n",
    "import matplotlib.pyplot as plt \n",
    "%matplotlib inline  \n",
    "from sklearn.model_selection import train_test_split\n",
    "from dataset import create_twomoon_dataset\n",
    "import torch\n"
   ]
  },
  {
   "cell_type": "code",
   "execution_count": null,
   "metadata": {},
   "outputs": [],
   "source": [
    "from torchvision.datasets import MNIST\n",
    "from torchvision.transforms import ToTensor\n",
    "from torch.utils.data import DataLoader\n",
    "from torch.nn.functional import one_hot\n",
    "\n",
    "traindt = MNIST(\n",
    "    root = 'data',\n",
    "    train = True,                         \n",
    "    transform = ToTensor(), \n",
    "    download = True,            \n",
    ")\n",
    "testdt = MNIST(\n",
    "    root = 'data', \n",
    "    train = False, \n",
    "    transform = ToTensor()\n",
    ")\n",
    "\n",
    "X_train = traindt.data.reshape(traindt.data.size(0), -1)\n",
    "y_train = traindt.targets\n",
    "X_test = testdt.data.reshape(testdt.data.size(0), -1)\n",
    "y_test = testdt.targets"
   ]
  },
  {
   "cell_type": "code",
   "execution_count": null,
   "metadata": {},
   "outputs": [],
   "source": [
    "X_train.shape, y_train.shape, X_test.shape, y_test.shape"
   ]
  },
  {
   "cell_type": "code",
   "execution_count": null,
   "metadata": {},
   "outputs": [],
   "source": [
    "params={'hidden_layers_node': [10], 'output_node': 10, 'param_search': False, 'learning_rate': 0.02, 'feature_selection': True, 'sigma':1, 'lam': 0.02, 'display_step': 20, 'activation': 'none'}"
   ]
  },
  {
   "cell_type": "code",
   "execution_count": null,
   "metadata": {},
   "outputs": [],
   "source": [
    "args_cuda = torch.cuda.is_available()\n",
    "device = torch.device(\"cuda\" if args_cuda else \"cpu\") \n",
    "feature_selection = True\n",
    "model = STG(task_type='classification',input_dim=X_train.shape[1], output_dim=10, hidden_dims=[10], activation='none',\n",
    "    optimizer='SGD', learning_rate=0.002, batch_size=128, feature_selection=feature_selection, sigma=1, lam=20, random_state=1, device=device, extra_args={'gating_net_hidden_dims':2000}) "
   ]
  },
  {
   "cell_type": "code",
   "execution_count": null,
   "metadata": {
    "pycharm": {
     "name": "#%%\n"
    }
   },
   "outputs": [],
   "source": [
    "model.fit(X_train, y_train, nr_epochs=200, valid_X=X_test, valid_y=y_test, print_interval=10, is_tensor_input=True)"
   ]
  },
  {
   "cell_type": "code",
   "execution_count": null,
   "metadata": {},
   "outputs": [],
   "source": [
    "train_acc = (y_train.cpu().numpy()==model.predict(X_train)).sum()/600\n",
    "test_acc = (y_test.cpu().numpy()==model.predict(X_test)).sum()/100\n",
    "\n",
    "print(f'train accuracy: {train_acc:.2f}% test accuracy: {test_acc:.2f}%')"
   ]
  },
  {
   "cell_type": "code",
   "execution_count": null,
   "metadata": {},
   "outputs": [],
   "source": [
    "prob = model._model.get_gates('prob', X_test.float().cuda()).reshape(-1,28,28)"
   ]
  },
  {
   "cell_type": "markdown",
   "metadata": {},
   "source": [
    "## Per digits example and distribution"
   ]
  },
  {
   "cell_type": "code",
   "execution_count": null,
   "metadata": {},
   "outputs": [],
   "source": [
    "for i in range(10):\n",
    "    f = plt.figure(figsize=(25,4));\n",
    "    f.suptitle(f'Data distribution for digit {i}',fontsize=16)\n",
    "    ax1 = f.add_subplot(151)\n",
    "    ax2 = f.add_subplot(152)\n",
    "    ax3 = f.add_subplot(153)\n",
    "    ax4 = f.add_subplot(154)\n",
    "    ax5 = f.add_subplot(155)\n",
    "    # fig, (ax1, ax2, ax3) = plt.subplots(1,3)\n",
    "    filtered_prob = prob[(y_test==i)]\n",
    "    counts = (filtered_prob > 0.001).sum(1).sum(1)\n",
    "    num_prob = filtered_prob.mean(0)\n",
    "    im = ax3.imshow(num_prob, interpolation='None')\n",
    "    f.colorbar(im, ax=ax3)\n",
    "    ax3.title.set_text('Mean prob')\n",
    "    num_prob = num_prob[num_prob > 0.001]\n",
    "    ax1.hist(num_prob.reshape(-1));\n",
    "    ax1.title.set_text('Mean probability > 0.001 hist')\n",
    "    ax2.hist(counts)\n",
    "    ax2.title.set_text('Number of point > 0.001 hist')\n",
    "    ax4.imshow(X_test[y_test==i][0].reshape(28,28))\n",
    "    ax4.title.set_text('Sample digit')\n",
    "    ax5.imshow(filtered_prob[0].reshape(28,28))\n",
    "    ax5.title.set_text('Sample gates')"
   ]
  },
  {
   "cell_type": "markdown",
   "metadata": {},
   "source": [
    "## Average gate probability"
   ]
  },
  {
   "cell_type": "code",
   "execution_count": null,
   "metadata": {},
   "outputs": [],
   "source": [
    "plt.imshow(prob.sum(0))"
   ]
  },
  {
   "cell_type": "markdown",
   "metadata": {},
   "source": []
  },
  {
   "cell_type": "markdown",
   "metadata": {},
   "source": [
    "## Some experiments"
   ]
  },
  {
   "cell_type": "code",
   "execution_count": null,
   "metadata": {},
   "outputs": [],
   "source": [
    "aa = model._model.FeatureSelector.net.mlp[0](X_test[:124].float().cuda()).detach().cpu().numpy()"
   ]
  },
  {
   "cell_type": "code",
   "execution_count": null,
   "metadata": {},
   "outputs": [],
   "source": [
    "similar = aa[y_test[:124]==0]\n",
    "different = aa[y_test[:124]!=0][:len(similar)]\n",
    "len(similar), len(different)"
   ]
  },
  {
   "cell_type": "code",
   "execution_count": null,
   "metadata": {},
   "outputs": [],
   "source": [
    "from scipy.spatial import distance_matrix\n",
    "d1 = distance_matrix(similar, similar, 1)\n",
    "d2 = distance_matrix(similar, different, 1)"
   ]
  },
  {
   "cell_type": "code",
   "execution_count": null,
   "metadata": {},
   "outputs": [],
   "source": [
    "d1.mean(), d2.mean() * (len(d2) - 1)/ len(d2)"
   ]
  },
  {
   "cell_type": "code",
   "execution_count": null,
   "metadata": {},
   "outputs": [],
   "source": []
  }
 ],
 "metadata": {
  "file_extension": ".py",
  "kernelspec": {
   "display_name": "Python 3 (ipykernel)",
   "language": "python",
   "name": "python3"
  },
  "language_info": {
   "codemirror_mode": {
    "name": "ipython",
    "version": 3
   },
   "file_extension": ".py",
   "mimetype": "text/x-python",
   "name": "python",
   "nbconvert_exporter": "python",
   "pygments_lexer": "ipython3",
   "version": "3.8.10"
  },
  "mimetype": "text/x-python",
  "name": "python",
  "npconvert_exporter": "python",
  "pygments_lexer": "ipython3",
  "version": 3
 },
 "nbformat": 4,
 "nbformat_minor": 4
}
