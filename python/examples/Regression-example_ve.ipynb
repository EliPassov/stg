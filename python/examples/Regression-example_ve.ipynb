{
 "cells": [
  {
   "cell_type": "code",
   "execution_count": null,
   "metadata": {
    "pycharm": {
     "name": "#%%\n"
    },
    "tags": []
   },
   "outputs": [],
   "source": [
    "# !pip install --user stg \n",
    "# If you are running this notebook on Google Colab, please reset the current python environment via 'Runtime -> Restart runtime' after installation.\n",
    "\n",
    "import sys\n",
    "stg_path = '/home/eli/Eli/Projects/stg/python'\n",
    "if stg_path not in sys.path:\n",
    "    sys.path.append(stg_path)\n"
   ]
  },
  {
   "cell_type": "code",
   "execution_count": null,
   "metadata": {
    "pycharm": {
     "name": "#%%\n"
    }
   },
   "outputs": [],
   "source": [
    "from stg import STG\n",
    "import numpy as np\n",
    "import torch\n",
    "import scipy.stats # for creating a simple dataset \n",
    "import matplotlib.pyplot as plt \n",
    "from sklearn.model_selection import train_test_split"
   ]
  },
  {
   "cell_type": "code",
   "execution_count": null,
   "metadata": {
    "collapsed": false,
    "jupyter": {
     "outputs_hidden": false
    },
    "pycharm": {
     "name": "#%%\n"
    }
   },
   "outputs": [],
   "source": [
    "# Create a simple dataset\n",
    "def create_sin_dataset(n,p,f=2):\n",
    "    x1=5*(np.random.uniform(0,1,n)).reshape(-1,1)\n",
    "    x2=5*(np.random.uniform(0,1,n)).reshape(-1,1)\n",
    "    x3=5*(np.random.uniform(0,1,n)).reshape(-1,1)\n",
    "    x4=5*(np.random.uniform(0,1,n)).reshape(-1,1)\n",
    "    # select = np.random.randint(0,2,n).reshape(-1,1)\n",
    "    select = (np.sign(np.sin(2*np.pi*f*np.linspace(1e-10,1,n))).reshape(-1,1) + 1) / 2\n",
    "    y1=np.sin(x1)**3*np.cos(x2)**3\n",
    "    y2=np.sin(x3)**3*np.cos(x4)**3\n",
    "\n",
    "    # y1=x1 + 2 * x2 / 5\n",
    "    # y2=3 * x3- 2 * x4 / 5\n",
    "\n",
    "    y=y1\n",
    "    # y=np.sin(x1)*np.cos(x2)**3\n",
    "    # y=select*y1 + (1-select)*y2\n",
    "    plt.plot(np.linspace(0,1,n), select)\n",
    "    # plt.scatter(x2[n//2:], y[n//2:] )\n",
    "    # y = y1+y2\n",
    "    relevant=np.hstack((x1,x2,x3,x4))\n",
    "    noise_vector = scipy.stats.norm.rvs(loc=0, scale=1, size=[n,p-4])\n",
    "    data = np.concatenate([relevant, noise_vector], axis=1)\n",
    "    return data, y.astype(np.float32), select\n",
    "\n",
    "\n",
    "n_size = 2000 #Number of samples\n",
    "p_size = 20   #Number of features\n",
    "X_data, y_data, select=create_sin_dataset(n_size,p_size)\n",
    "print(X_data.shape)\n",
    "print(y_data.shape)"
   ]
  },
  {
   "cell_type": "code",
   "execution_count": null,
   "metadata": {},
   "outputs": [],
   "source": [
    "X_data = np.random.normal(0,1,(11,2000))\n",
    "y_data = np.exp(X_data[0]*X_data[1]) * (X_data[10] < 0) + np.exp(X_data[2]+X_data[3]+X_data[4]+X_data[5]-4) * (X_data[10] >= 0)\n",
    "y_data = 1 / (1 + np.log(y_data / (1 - y_data))) > 0.5\n",
    "\n",
    "X_data = X_data.transpose()\n"
   ]
  },
  {
   "cell_type": "code",
   "execution_count": null,
   "metadata": {
    "collapsed": false,
    "jupyter": {
     "outputs_hidden": false
    },
    "pycharm": {
     "name": "#%%\n"
    }
   },
   "outputs": [],
   "source": [
    "def plot_model(X_data, y_data):\n",
    "    f,ax = plt.subplots(1,2,figsize=(10,5))\n",
    "\n",
    "    ax[0].scatter(x=X_data[:,0], y=X_data[:,1], s=150, c=y_data.reshape(-1),alpha=0.4,cmap=plt.cm.get_cmap('RdYlBu'),)\n",
    "    ax[0].set_xlabel('$x_1$',fontsize=20)\n",
    "    ax[0].set_ylabel('$x_2$',fontsize=20)\n",
    "    ax[0].set_title('Target y')\n",
    "    ax[1].scatter(x=X_data[:,2], y=X_data[:,3], s=150, c=y_data.reshape(-1),alpha=0.4,cmap=plt.cm.get_cmap('RdYlBu'),)\n",
    "    ax[1].set_xlabel('$x_3$',fontsize=20)\n",
    "    ax[1].set_ylabel('$x_4$',fontsize=20)\n",
    "    ax[1].set_title('Target y')\n",
    "    plt.tick_params(labelsize=10)\n",
    "    \n",
    "plot_model(X_data, y_data)"
   ]
  },
  {
   "cell_type": "code",
   "execution_count": null,
   "metadata": {
    "collapsed": false,
    "jupyter": {
     "outputs_hidden": false
    },
    "pycharm": {
     "name": "#%%\n"
    }
   },
   "outputs": [],
   "source": [
    "X_train, X_test, y_train, y_test = train_test_split(X_data, y_data, train_size=0.8)\n",
    "X_train, X_valid, y_train, y_valid = train_test_split(X_train, y_train, train_size=0.9)"
   ]
  },
  {
   "cell_type": "code",
   "execution_count": null,
   "metadata": {},
   "outputs": [],
   "source": [
    "plt.scatter(X_train[:n_size//4,3], y_train[:n_size//4])"
   ]
  },
  {
   "cell_type": "code",
   "execution_count": null,
   "metadata": {
    "collapsed": false,
    "jupyter": {
     "outputs_hidden": false
    },
    "pycharm": {
     "name": "#%%\n"
    }
   },
   "outputs": [],
   "source": [
    "args_cuda = torch.cuda.is_available()\n",
    "device = torch.device(\"cuda\" if args_cuda else \"cpu\") \n",
    "feature_selection = True\n",
    "model = STG(task_type='regression',input_dim=X_train.shape[1], output_dim=1, hidden_dims=[500 ,50, 10], activation='tanh',\n",
    "    optimizer='SGD', learning_rate=0.1, batch_size=X_train.shape[0], feature_selection=feature_selection, sigma=0.5, lam=0.1, random_state=1, device=device, extra_args={'gating_net_hidden_dims':[200,200]}) "
   ]
  },
  {
   "cell_type": "code",
   "execution_count": null,
   "metadata": {
    "collapsed": false,
    "jupyter": {
     "outputs_hidden": false
    },
    "pycharm": {
     "name": "#%%\n"
    }
   },
   "outputs": [],
   "source": [
    "# model._model"
   ]
  },
  {
   "cell_type": "code",
   "execution_count": null,
   "metadata": {
    "collapsed": false,
    "jupyter": {
     "outputs_hidden": false
    },
    "pycharm": {
     "name": "#%%\n"
    }
   },
   "outputs": [],
   "source": [
    "# model = STG(task_type='regression',input_dim=X_train.shape[1], output_dim=1, hidden_dims=[500, 50, 10], activation='tanh',\n",
    "#            optimizer='SGD', learning_rate=1e-1, batch_size=X_train.shape[0], sigma=0.5, lam=0.1, random_state=1)"
   ]
  },
  {
   "cell_type": "code",
   "execution_count": null,
   "metadata": {},
   "outputs": [],
   "source": [
    "for pm in model._optimizer.param_groups:\n",
    "    pm['lr'] = 0.01"
   ]
  },
  {
   "cell_type": "code",
   "execution_count": null,
   "metadata": {},
   "outputs": [],
   "source": [
    "model._optimizer"
   ]
  },
  {
   "cell_type": "code",
   "execution_count": null,
   "metadata": {
    "collapsed": false,
    "jupyter": {
     "outputs_hidden": false
    },
    "pycharm": {
     "name": "#%%\n"
    }
   },
   "outputs": [],
   "source": [
    "model.fit(X_train, y_train, nr_epochs=20000, valid_X=X_valid, valid_y=y_valid, print_interval=1000)"
   ]
  },
  {
   "cell_type": "code",
   "execution_count": null,
   "metadata": {},
   "outputs": [],
   "source": [
    "t_len = len(X_data)\n",
    "X_data1, X_data2 = X_data[(select==0).reshape(-1)], X_data[(select==1).reshape(-1)]\n",
    "y_data1, y_data2 = y_data[(select==0).reshape(-1)], y_data[(select==1).reshape(-1)]\n",
    "\n",
    "X_train1, X_test1, y_train1, y_test1 = train_test_split(X_data1, y_data1, train_size=0.8)\n",
    "X_train1, X_valid1, y_train1, y_valid1 = train_test_split(X_train1, y_train1, train_size=0.9)\n",
    "X_train2, X_test2, y_train2, y_test2 = train_test_split(X_data2, y_data2, train_size=0.8)\n",
    "X_train2, X_valid2, y_train2, y_valid2 = train_test_split(X_train2, y_train2, train_size=0.9)\n",
    "\n",
    "plot_model(X_train1, y_train1)\n",
    "plot_model(X_train2, y_train2)"
   ]
  },
  {
   "cell_type": "code",
   "execution_count": null,
   "metadata": {},
   "outputs": [],
   "source": [
    "model1 = STG(task_type='regression',input_dim=X_train1.shape[1], output_dim=1, hidden_dims=[500 ,50, 10], activation='tanh',\n",
    "    optimizer='SGD', learning_rate=0.1, batch_size=X_train1.shape[0], feature_selection=feature_selection, sigma=0.5, lam=0.1, random_state=1, device=device) \n",
    "\n",
    "model1.fit(X_train1, y_train1, nr_epochs=3000, valid_X=X_valid, valid_y=y_valid, print_interval=1000)\n",
    "\n",
    "\n",
    "model2 = STG(task_type='regression',input_dim=X_train2.shape[1], output_dim=1, hidden_dims=[500 ,50, 10], activation='tanh',\n",
    "    optimizer='SGD', learning_rate=0.1, batch_size=X_train2.shape[0], feature_selection=feature_selection, sigma=0.5, lam=0.1, random_state=1, device=device) \n",
    "\n",
    "model2.fit(X_train2, y_train2, nr_epochs=3000, valid_X=X_valid, valid_y=y_valid, print_interval=1000)"
   ]
  },
  {
   "cell_type": "code",
   "execution_count": null,
   "metadata": {},
   "outputs": [],
   "source": [
    "model1.get_gates(mode='prob')"
   ]
  },
  {
   "cell_type": "code",
   "execution_count": null,
   "metadata": {},
   "outputs": [],
   "source": [
    "model2.get_gates(mode='prob')"
   ]
  },
  {
   "cell_type": "code",
   "execution_count": null,
   "metadata": {},
   "outputs": [],
   "source": [
    "model1._model.FeatureSelector(torch.from_numpy(X_train1[0]))"
   ]
  },
  {
   "cell_type": "code",
   "execution_count": null,
   "metadata": {},
   "outputs": [],
   "source": [
    "model2._model.FeatureSelector(torch.from_numpy(X_train1[0]))"
   ]
  },
  {
   "cell_type": "code",
   "execution_count": null,
   "metadata": {
    "collapsed": false,
    "jupyter": {
     "outputs_hidden": false
    },
    "pycharm": {
     "name": "#%%\n"
    }
   },
   "outputs": [],
   "source": [
    "feature_selectionimport torch \n",
    "tmp_loss = torch.nn.MSELoss() \n",
    "tmp_loss(torch.Tensor(y_train), torch.Tensor(model.predict(X_train)))"
   ]
  },
  {
   "cell_type": "code",
   "execution_count": null,
   "metadata": {
    "collapsed": false,
    "jupyter": {
     "outputs_hidden": false
    },
    "pycharm": {
     "name": "#%%\n"
    }
   },
   "outputs": [],
   "source": [
    "tmp_loss(torch.Tensor(y_test), torch.Tensor(model.predict(X_test))) "
   ]
  },
  {
   "cell_type": "code",
   "execution_count": null,
   "metadata": {
    "collapsed": false,
    "jupyter": {
     "outputs_hidden": false
    },
    "pycharm": {
     "name": "#%%\n"
    }
   },
   "outputs": [],
   "source": [
    "model.get_gates(mode='prob') "
   ]
  },
  {
   "cell_type": "code",
   "execution_count": null,
   "metadata": {
    "collapsed": false,
    "jupyter": {
     "outputs_hidden": false
    },
    "pycharm": {
     "name": "#%%\n"
    }
   },
   "outputs": [],
   "source": [
    "model.get_gates(mode='raw')"
   ]
  },
  {
   "cell_type": "code",
   "execution_count": null,
   "metadata": {
    "collapsed": false,
    "jupyter": {
     "outputs_hidden": false
    },
    "pycharm": {
     "name": "#%%\n"
    }
   },
   "outputs": [],
   "source": [
    "model.get_gates(mode='raw').argsort()[::-1]"
   ]
  },
  {
   "cell_type": "markdown",
   "metadata": {
    "pycharm": {
     "name": "#%% md\n"
    }
   },
   "source": [
    "## Testing the model"
   ]
  },
  {
   "cell_type": "code",
   "execution_count": null,
   "metadata": {
    "collapsed": false,
    "jupyter": {
     "outputs_hidden": false
    },
    "pycharm": {
     "name": "#%%\n"
    }
   },
   "outputs": [],
   "source": [
    "model._model.FeatureSelector._parameters"
   ]
  },
  {
   "cell_type": "code",
   "execution_count": null,
   "metadata": {
    "collapsed": false,
    "jupyter": {
     "outputs_hidden": false
    },
    "pycharm": {
     "name": "#%%\n"
    }
   },
   "outputs": [],
   "source": [
    "f,ax = plt.subplots(2,2,figsize=(10,10)) \n",
    "y_pred=model.predict(X_train)\n",
    "ax[0,0].scatter(x=X_train[:,0], y=X_train[:,1], s=150, c=y_train.reshape(-1),alpha=0.4,cmap=plt.cm.get_cmap('RdYlBu'),)\n",
    "ax[0,0].set_xlabel('$x_1$',fontsize=10)\n",
    "ax[0,0].set_ylabel('$x_2$',fontsize=10)\n",
    "ax[0,0].set_title('Target y')\n",
    "ax[0,1].scatter(x=X_train[:,0], y=X_train[:,1], s=150, c=y_pred.reshape(-1),alpha=0.4,cmap=plt.cm.get_cmap('RdYlBu'),)\n",
    "ax[0,1].set_xlabel('$x_1$',fontsize=10)\n",
    "ax[0,1].set_ylabel('$x_2$',fontsize=10)\n",
    "ax[0,1].set_title('Regression output ')\n",
    "\n",
    "y_pred_test=model.predict(X_test)\n",
    "\n",
    "ax[1,0].scatter(x=X_test[:,0], y=X_test[:,1], s=150, c=y_test.reshape(-1),alpha=0.4,cmap=plt.cm.get_cmap('RdYlBu'),)\n",
    "ax[1,0].set_xlabel('$x_1$',fontsize=10)\n",
    "ax[1,0].set_ylabel('$x_2$',fontsize=10)\n",
    "ax[1,0].set_title('Target y test')\n",
    "ax[1,1].scatter(x=X_test[:,0], y=X_test[:,1], s=150, c=y_pred_test.reshape(-1),alpha=0.4,cmap=plt.cm.get_cmap('RdYlBu'),)\n",
    "ax[1,1].set_xlabel('$x_1$',fontsize=10)\n",
    "ax[1,1].set_ylabel('$x_2$',fontsize=10)\n",
    "ax[1,1].set_title('Regression output test')\n",
    "plt.tick_params(labelsize=5)"
   ]
  },
  {
   "cell_type": "code",
   "execution_count": null,
   "metadata": {
    "collapsed": false,
    "jupyter": {
     "outputs_hidden": false
    },
    "pycharm": {
     "name": "#%%\n"
    }
   },
   "outputs": [],
   "source": [
    "np.abs(y_train - y_pred).mean(), np.abs(y_test-y_pred_test).mean()"
   ]
  },
  {
   "cell_type": "markdown",
   "metadata": {
    "pycharm": {
     "name": "#%% md\n"
    }
   },
   "source": [
    "## Model saving / loading"
   ]
  },
  {
   "cell_type": "code",
   "execution_count": null,
   "metadata": {
    "pycharm": {
     "name": "#%%\n"
    }
   },
   "outputs": [],
   "source": [
    "# model.save_checkpoint('trained_model.pt')"
   ]
  },
  {
   "cell_type": "code",
   "execution_count": null,
   "metadata": {
    "pycharm": {
     "name": "#%%\n"
    }
   },
   "outputs": [],
   "source": [
    "# model_tmp = STG(task_type='regression',input_dim=X_train.shape[1], output_dim=1, hidden_dims=[500, 50, 10], activation='tanh',\n",
    "#     optimizer='SGD', learning_rate=0.1, batch_size=X_train.shape[0], feature_selection=feature_selection, sigma=0.5, lam=0.1, random_state=1, device=device) "
   ]
  },
  {
   "cell_type": "code",
   "execution_count": null,
   "metadata": {
    "pycharm": {
     "name": "#%%\n"
    },
    "tags": []
   },
   "outputs": [],
   "source": [
    "# model_tmp.load_checkpoint('trained_model.pt')"
   ]
  },
  {
   "cell_type": "code",
   "execution_count": null,
   "metadata": {
    "pycharm": {
     "name": "#%%\n"
    }
   },
   "outputs": [],
   "source": []
  }
 ],
 "metadata": {
  "file_extension": ".py",
  "kernelspec": {
   "display_name": "Python 3 (ipykernel)",
   "language": "python",
   "name": "python3"
  },
  "language_info": {
   "codemirror_mode": {
    "name": "ipython",
    "version": 3
   },
   "file_extension": ".py",
   "mimetype": "text/x-python",
   "name": "python",
   "nbconvert_exporter": "python",
   "pygments_lexer": "ipython3",
   "version": "3.8.10"
  },
  "mimetype": "text/x-python",
  "name": "python",
  "npconvert_exporter": "python",
  "pygments_lexer": "ipython3",
  "version": 3
 },
 "nbformat": 4,
 "nbformat_minor": 4
}
